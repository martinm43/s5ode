{
 "cells": [
  {
   "cell_type": "markdown",
   "metadata": {},
   "source": [
    "# Problem Statement\n",
    "\n",
    "Imagine a person floating in a pool. How many magnets would they need in order \n",
    "to begin pointing north in the pool?\n",
    "\n",
    "(Drawing pending)\n",
    "\n",
    "# Solution\n",
    "To simplify things, we will model the person as a single magnet , suspended in \n",
    "the pool with the thin end pointed towards the sky, and rotating about its \n",
    "middle.\n",
    "\n",
    "The rotational version of Newton's second law is\n",
    "\n",
    "$\\Sigma$ $\\tau$ = I $\\ddot{\\theta}$\n",
    "\n",
    "where\n",
    " \n",
    "* $\\tau$ represents the rotational forces on the object, \n",
    "* I represents the moment of inertia of the object about its rotational axis\n",
    "* $\\ddot{\\theta}$ represents the angular acceleration of the object.\n"
   ]
  },
  {
   "cell_type": "code",
   "execution_count": null,
   "metadata": {},
   "outputs": [],
   "source": []
  }
 ],
 "metadata": {
  "kernelspec": {
   "display_name": "Python 3",
   "language": "python",
   "name": "python3"
  },
  "language_info": {
   "codemirror_mode": {
    "name": "ipython",
    "version": 3
   },
   "file_extension": ".py",
   "mimetype": "text/x-python",
   "name": "python",
   "nbconvert_exporter": "python",
   "pygments_lexer": "ipython3",
   "version": "3.8.5"
  }
 },
 "nbformat": 4,
 "nbformat_minor": 4
}
